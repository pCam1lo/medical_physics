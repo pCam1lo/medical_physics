{
  "nbformat": 4,
  "nbformat_minor": 0,
  "metadata": {
    "colab": {
      "provenance": []
    },
    "kernelspec": {
      "name": "python3",
      "display_name": "Python 3"
    },
    "language_info": {
      "name": "python"
    }
  },
  "cells": [
    {
      "cell_type": "markdown",
      "source": [
        "Debe instalar la libreria pip install pymedphys"
      ],
      "metadata": {
        "id": "eNl7RKRSOgjh"
      }
    },
    {
      "cell_type": "code",
      "source": [
        "!pip install pymedphys"
      ],
      "metadata": {
        "colab": {
          "base_uri": "https://localhost:8080/"
        },
        "id": "1o-8PwzhXsHs",
        "outputId": "3d755c70-6348-428b-df39-042c31bba515"
      },
      "execution_count": null,
      "outputs": [
        {
          "output_type": "stream",
          "name": "stdout",
          "text": [
            "Collecting pymedphys\n",
            "  Downloading pymedphys-0.39.3-py3-none-any.whl (5.8 MB)\n",
            "\u001b[2K     \u001b[90m━━━━━━━━━━━━━━━━━━━━━━━━━━━━━━━━━━━━━━━━\u001b[0m \u001b[32m5.8/5.8 MB\u001b[0m \u001b[31m9.3 MB/s\u001b[0m eta \u001b[36m0:00:00\u001b[0m\n",
            "\u001b[?25hRequirement already satisfied: typing-extensions in /usr/local/lib/python3.10/dist-packages (from pymedphys) (4.7.1)\n",
            "Installing collected packages: pymedphys\n",
            "Successfully installed pymedphys-0.39.3\n"
          ]
        }
      ]
    },
    {
      "cell_type": "code",
      "source": [
        "import pymedphys\n",
        "import numpy as np"
      ],
      "metadata": {
        "id": "h7cKvPTRXmWv"
      },
      "execution_count": null,
      "outputs": []
    },
    {
      "cell_type": "code",
      "execution_count": null,
      "metadata": {
        "id": "PlAIA9AhOYM_"
      },
      "outputs": [],
      "source": [
        "def calculate_absorbed_dose(organ_activity, source_activity, half_life, time_elapsed, decay_correction=True):\n",
        "    \"\"\"\n",
        "    Calculate the absorbed dose to an organ due to the administration of a radiopharmaceutical.\n",
        "\n",
        "    Parameters:\n",
        "        organ_activity (float): Activity of the organ in Bq (Becquerel).\n",
        "        source_activity (float): Initial activity of the radiopharmaceutical in Bq.\n",
        "        half_life (float): Half-life of the radiopharmaceutical in seconds.\n",
        "        time_elapsed (float): Time elapsed since administration in seconds.\n",
        "        decay_correction (bool): Flag to apply decay correction. Default is True.\n",
        "\n",
        "    Returns:\n",
        "        absorbed_dose (float): Absorbed dose in Gy (Gray).\n",
        "    \"\"\"\n",
        "    if decay_correction:\n",
        "        decay_factor = np.exp(-np.log(2) * time_elapsed / half_life)\n",
        "        source_activity *= decay_factor\n",
        "\n",
        "    absorbed_dose = organ_activity / (source_activity * 1.602e-13)  # 1.602e-13 is the energy per decay in MeV\n",
        "\n",
        "    return absorbed_dose\n",
        "\n",
        "def calculate_effective_dose(organ_doses, tissue_weights):\n",
        "    \"\"\"\n",
        "    Calculate the effective dose due to the administration of a radiopharmaceutical.\n",
        "\n",
        "    Parameters:\n",
        "        organ_doses (dict): Dictionary containing organ doses in Gy (Gray). The keys should be organ names.\n",
        "        tissue_weights (dict): Dictionary containing tissue weighting factors. The keys should be organ names.\n",
        "\n",
        "    Returns:\n",
        "        effective_dose (float): Effective dose in Sv (Sievert).\n",
        "    \"\"\"\n",
        "    effective_dose = sum(organ_doses[organ] * tissue_weights[organ] for organ in organ_doses)\n",
        "\n",
        "    return effective_dose\n"
      ]
    },
    {
      "cell_type": "code",
      "source": [
        "# Example usage:\n",
        "if __name__ == \"__main__\":\n",
        "    organ_activity_bq = 2e9  # Activity of the organ (Bq)\n",
        "    source_activity_bq = 1e12  # Initial activity of the radiopharmaceutical (Bq)\n",
        "    half_life_sec = 3600  # Half-life of the radiopharmaceutical (seconds)\n",
        "    time_elapsed_sec = 7200  # Time elapsed since administration (seconds)\n",
        "\n",
        "    absorbed_dose_gy = calculate_absorbed_dose(organ_activity_bq, source_activity_bq, half_life_sec, time_elapsed_sec)\n",
        "    print(f\"Absorbed dose: {absorbed_dose_gy:.2e} Gy\")\n",
        "\n",
        "    # Example for calculating effective dose using tissue weighting factors (in this case, we assume all tissue weights are equal):\n",
        "    organ_doses_gy = {\"Organ1\": absorbed_dose_gy, \"Organ2\": 0.5 * absorbed_dose_gy}\n",
        "    tissue_weights = {\"Organ1\": 0.5, \"Organ2\": 0.5}\n",
        "    effective_dose_sv = calculate_effective_dose(organ_doses_gy, tissue_weights)\n",
        "    print(f\"Effective dose: {effective_dose_sv:.2e} Sv\")"
      ],
      "metadata": {
        "colab": {
          "base_uri": "https://localhost:8080/"
        },
        "id": "rQGUZf1JYdIM",
        "outputId": "1f487eb4-575b-46c9-a5d4-f78af4589f16"
      },
      "execution_count": null,
      "outputs": [
        {
          "output_type": "stream",
          "name": "stdout",
          "text": [
            "Absorbed dose: 2.50e+10 Gy\n",
            "Effective dose: 1.87e+10 Sv\n"
          ]
        }
      ]
    }
  ]
}